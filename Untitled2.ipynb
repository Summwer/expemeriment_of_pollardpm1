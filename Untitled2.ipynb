{
 "cells": [
  {
   "cell_type": "code",
   "execution_count": 1,
   "id": "24356fad",
   "metadata": {},
   "outputs": [
    {
     "data": {
      "text/plain": [
       "2^2 * 30303659 * 136255523 * 145240507 * 150119441 * 153521413 * 163209461 * 170487689 * 190371767 * 200187697 * 212947699 * 222541379 * 223949587 * 231905629 * 247857163 * 334531961 * 335633647 * 342171407 * 365502869 * 373995463 * 374694233 * 375148649 * 383447677 * 524632651 * 587912909 * 647410651 * 649098137 * 688088449 * 713523623 * 731223781 * 767113531 * 789418043 * 801556729 * 891507751 * 897527753 * 937873007 * 1010489929"
      ]
     },
     "execution_count": 1,
     "metadata": {},
     "output_type": "execute_result"
    }
   ],
   "source": [
    "p = 173392280438546792683818136702600967448366743521806189327229178974568108822276784275748977768555394587467983783851310057943432666398430604814797445730219422150371757816773423848241811463624899203965492680109656320607902960451073955585153506896911302285757276495392556781174371601361441446529516356977237812613\n",
    "\n",
    "factor(p-1)"
   ]
  },
  {
   "cell_type": "code",
   "execution_count": null,
   "id": "33dea90b",
   "metadata": {},
   "outputs": [],
   "source": []
  }
 ],
 "metadata": {
  "kernelspec": {
   "display_name": "SageMath 9.7",
   "language": "sage",
   "name": "sagemath-9.7"
  },
  "language_info": {
   "codemirror_mode": {
    "name": "ipython",
    "version": 3
   },
   "file_extension": ".py",
   "mimetype": "text/x-python",
   "name": "python",
   "nbconvert_exporter": "python",
   "pygments_lexer": "ipython3",
   "version": "3.10.5"
  }
 },
 "nbformat": 4,
 "nbformat_minor": 5
}
